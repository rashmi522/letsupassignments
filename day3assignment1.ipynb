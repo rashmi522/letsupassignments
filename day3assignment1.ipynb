{
  "nbformat": 4,
  "nbformat_minor": 0,
  "metadata": {
    "colab": {
      "name": "day3assignment1.ipynb",
      "provenance": [],
      "authorship_tag": "ABX9TyNhIN/ucJw4xa1QTukVEobs",
      "include_colab_link": true
    },
    "kernelspec": {
      "name": "python3",
      "display_name": "Python 3"
    }
  },
  "cells": [
    {
      "cell_type": "markdown",
      "metadata": {
        "id": "view-in-github",
        "colab_type": "text"
      },
      "source": [
        "<a href=\"https://colab.research.google.com/github/rashmi522/letsupassignments/blob/master/day3assignment1.ipynb\" target=\"_parent\"><img src=\"https://colab.research.google.com/assets/colab-badge.svg\" alt=\"Open In Colab\"/></a>"
      ]
    },
    {
      "cell_type": "code",
      "metadata": {
        "id": "IXkjyM6sT27w",
        "colab_type": "code",
        "colab": {}
      },
      "source": [
        "altitude=int(input())\n",
        "if altitude<=1000:\n",
        "  print(\"land the plane\")\n",
        "elif altitude<=5000:\n",
        "  print(\"come down to 1000ft\")\n",
        "else:\n",
        "  print(\"go around and try later\")"
      ],
      "execution_count": null,
      "outputs": []
    }
  ]
}