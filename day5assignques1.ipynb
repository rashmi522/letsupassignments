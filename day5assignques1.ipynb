{
  "nbformat": 4,
  "nbformat_minor": 0,
  "metadata": {
    "colab": {
      "name": "day5assignques1.ipynb",
      "provenance": [],
      "authorship_tag": "ABX9TyObkf29VN8QbXFrxR2LudxT",
      "include_colab_link": true
    },
    "kernelspec": {
      "name": "python3",
      "display_name": "Python 3"
    }
  },
  "cells": [
    {
      "cell_type": "markdown",
      "metadata": {
        "id": "view-in-github",
        "colab_type": "text"
      },
      "source": [
        "<a href=\"https://colab.research.google.com/github/rashmi522/letsupassignments/blob/master/day5assignques1.ipynb\" target=\"_parent\"><img src=\"https://colab.research.google.com/assets/colab-badge.svg\" alt=\"Open In Colab\"/></a>"
      ]
    },
    {
      "cell_type": "markdown",
      "metadata": {
        "id": "n_6Sreo5MhHC",
        "colab_type": "text"
      },
      "source": [
        "WAP to identify sublist[1,1,5] is there in the given list in the same order,if yes print \"it's a match\" if no then print \"it' gone \" in function"
      ]
    },
    {
      "cell_type": "code",
      "metadata": {
        "id": "xHajOU_UKf2c",
        "colab_type": "code",
        "colab": {
          "base_uri": "https://localhost:8080/",
          "height": 52
        },
        "outputId": "d67b0019-8a0f-4ba7-c55c-3c6d579bc58d"
      },
      "source": [
        "test_list1=[1,2,6,1,5,3]\n",
        "test_list2=[2,3,4,5]\n",
        "sub_list=[1,1,5]\n",
        "def sublistIden(test,sub):\n",
        "  flag=0\n",
        "  if(all(x in test for x in sub)):\n",
        "    flag=1\n",
        "  if(flag):\n",
        "    print(\"it's a Match\")\n",
        "  else:\n",
        "    print(\"it's Gone\")\n",
        "sublistIden(test_list1,sub_list)\n",
        "sublistIden(test_list2,sub_list)\n",
        "\n",
        "\n",
        "\n",
        "  "
      ],
      "execution_count": 2,
      "outputs": [
        {
          "output_type": "stream",
          "text": [
            "it's a Match\n",
            "it's Gone\n"
          ],
          "name": "stdout"
        }
      ]
    }
  ]
}