{
  "nbformat": 4,
  "nbformat_minor": 0,
  "metadata": {
    "colab": {
      "name": "firstassignment.ipynb",
      "provenance": [],
      "authorship_tag": "ABX9TyOTfOrQNY2yZeKNvQdcsfUA",
      "include_colab_link": true
    },
    "kernelspec": {
      "name": "python3",
      "display_name": "Python 3"
    }
  },
  "cells": [
    {
      "cell_type": "markdown",
      "metadata": {
        "id": "view-in-github",
        "colab_type": "text"
      },
      "source": [
        "<a href=\"https://colab.research.google.com/github/rashmi522/letsupassignments/blob/master/firstassignment.ipynb\" target=\"_parent\"><img src=\"https://colab.research.google.com/assets/colab-badge.svg\" alt=\"Open In Colab\"/></a>"
      ]
    },
    {
      "cell_type": "markdown",
      "metadata": {
        "id": "8bDllQomNj7Q",
        "colab_type": "text"
      },
      "source": [
        "operations on lists"
      ]
    },
    {
      "cell_type": "code",
      "metadata": {
        "id": "R8fYrEpQJUfs",
        "colab_type": "code",
        "colab": {}
      },
      "source": [
        "lst=[1,2,3,\"colours\",2.3]\n"
      ],
      "execution_count": null,
      "outputs": []
    },
    {
      "cell_type": "code",
      "metadata": {
        "id": "oAIdg3lrJlIb",
        "colab_type": "code",
        "colab": {
          "base_uri": "https://localhost:8080/",
          "height": 35
        },
        "outputId": "1959d756-d69c-4aa3-efe7-6e2f0e186e2c"
      },
      "source": [
        "lst"
      ],
      "execution_count": null,
      "outputs": [
        {
          "output_type": "execute_result",
          "data": {
            "text/plain": [
              "[1, 2, 3, 'colours', 2.3]"
            ]
          },
          "metadata": {
            "tags": []
          },
          "execution_count": 3
        }
      ]
    },
    {
      "cell_type": "code",
      "metadata": {
        "id": "ObTKmkO4KVgr",
        "colab_type": "code",
        "colab": {}
      },
      "source": [
        "lst.insert(2,45)"
      ],
      "execution_count": null,
      "outputs": []
    },
    {
      "cell_type": "code",
      "metadata": {
        "id": "wH4VNEBxKa-j",
        "colab_type": "code",
        "colab": {
          "base_uri": "https://localhost:8080/",
          "height": 35
        },
        "outputId": "72d24abc-1187-41bf-bb47-3b0220b968dc"
      },
      "source": [
        "lst"
      ],
      "execution_count": null,
      "outputs": [
        {
          "output_type": "execute_result",
          "data": {
            "text/plain": [
              "[1, 2, 45, 3, 'colours', 2.3]"
            ]
          },
          "metadata": {
            "tags": []
          },
          "execution_count": 6
        }
      ]
    },
    {
      "cell_type": "code",
      "metadata": {
        "id": "jQnwtJ07KdCW",
        "colab_type": "code",
        "colab": {}
      },
      "source": [
        "lst.append(\"fruits\")"
      ],
      "execution_count": null,
      "outputs": []
    },
    {
      "cell_type": "code",
      "metadata": {
        "id": "uB9zP1-qKurm",
        "colab_type": "code",
        "colab": {
          "base_uri": "https://localhost:8080/",
          "height": 35
        },
        "outputId": "239a5211-0076-482a-debc-a545e9b1fc1a"
      },
      "source": [
        "lst"
      ],
      "execution_count": null,
      "outputs": [
        {
          "output_type": "execute_result",
          "data": {
            "text/plain": [
              "[1, 2, 45, 3, 'colours', 2.3, 'fruits']"
            ]
          },
          "metadata": {
            "tags": []
          },
          "execution_count": 8
        }
      ]
    },
    {
      "cell_type": "code",
      "metadata": {
        "id": "PD0KjMjXLEEJ",
        "colab_type": "code",
        "colab": {}
      },
      "source": [
        "lst.remove(1)"
      ],
      "execution_count": null,
      "outputs": []
    },
    {
      "cell_type": "code",
      "metadata": {
        "id": "VPOdufzELNsq",
        "colab_type": "code",
        "colab": {
          "base_uri": "https://localhost:8080/",
          "height": 35
        },
        "outputId": "38360c98-a314-47ca-9ecb-36f0928eee42"
      },
      "source": [
        "lst"
      ],
      "execution_count": null,
      "outputs": [
        {
          "output_type": "execute_result",
          "data": {
            "text/plain": [
              "[2, 45, 3, 'colours', 2.3, 'fruits']"
            ]
          },
          "metadata": {
            "tags": []
          },
          "execution_count": 10
        }
      ]
    },
    {
      "cell_type": "code",
      "metadata": {
        "id": "XcTq7ZvlLWp9",
        "colab_type": "code",
        "colab": {
          "base_uri": "https://localhost:8080/",
          "height": 35
        },
        "outputId": "50a2c57b-33a8-44fb-802a-fd8b57c5e1f4"
      },
      "source": [
        "lst.pop()"
      ],
      "execution_count": null,
      "outputs": [
        {
          "output_type": "execute_result",
          "data": {
            "application/vnd.google.colaboratory.intrinsic+json": {
              "type": "string"
            },
            "text/plain": [
              "'fruits'"
            ]
          },
          "metadata": {
            "tags": []
          },
          "execution_count": 11
        }
      ]
    },
    {
      "cell_type": "markdown",
      "metadata": {
        "id": "1N9COXB5Lv2S",
        "colab_type": "text"
      },
      "source": [
        "operations on sets\n"
      ]
    },
    {
      "cell_type": "code",
      "metadata": {
        "id": "UTvPxuCsL20y",
        "colab_type": "code",
        "colab": {}
      },
      "source": [
        "colours={\"brown\",\"pink\",\"purple\"}"
      ],
      "execution_count": null,
      "outputs": []
    },
    {
      "cell_type": "code",
      "metadata": {
        "id": "4bl4EFxbMG3y",
        "colab_type": "code",
        "colab": {}
      },
      "source": [
        "colours.add(\"black\")"
      ],
      "execution_count": null,
      "outputs": []
    },
    {
      "cell_type": "code",
      "metadata": {
        "id": "XhTBU1ceMQia",
        "colab_type": "code",
        "colab": {
          "base_uri": "https://localhost:8080/",
          "height": 35
        },
        "outputId": "9cc46667-ff86-4417-a4d6-78c6f4c441ac"
      },
      "source": [
        "colours"
      ],
      "execution_count": null,
      "outputs": [
        {
          "output_type": "execute_result",
          "data": {
            "text/plain": [
              "{'black', 'brown', 'pink', 'purple'}"
            ]
          },
          "metadata": {
            "tags": []
          },
          "execution_count": 14
        }
      ]
    },
    {
      "cell_type": "code",
      "metadata": {
        "id": "Q2iF1mQaMSPd",
        "colab_type": "code",
        "colab": {}
      },
      "source": [
        "colours.update([\"green\",\"yellow\"])"
      ],
      "execution_count": null,
      "outputs": []
    },
    {
      "cell_type": "code",
      "metadata": {
        "id": "VpAzRgSOMfPM",
        "colab_type": "code",
        "colab": {
          "base_uri": "https://localhost:8080/",
          "height": 260
        },
        "outputId": "6c0055be-4d59-458e-f67d-ec047b3fef33"
      },
      "source": [
        "colours"
      ],
      "execution_count": null,
      "outputs": [
        {
          "output_type": "execute_result",
          "data": {
            "text/plain": [
              "{'black',\n",
              " 'brown',\n",
              " 'e',\n",
              " 'g',\n",
              " 'green',\n",
              " 'l',\n",
              " 'n',\n",
              " 'o',\n",
              " 'pink',\n",
              " 'purple',\n",
              " 'r',\n",
              " 'w',\n",
              " 'y',\n",
              " 'yellow'}"
            ]
          },
          "metadata": {
            "tags": []
          },
          "execution_count": 18
        }
      ]
    },
    {
      "cell_type": "code",
      "metadata": {
        "id": "KmPhd50ZMsme",
        "colab_type": "code",
        "colab": {}
      },
      "source": [
        ""
      ],
      "execution_count": null,
      "outputs": []
    },
    {
      "cell_type": "markdown",
      "metadata": {
        "id": "fHkXhjY9M3JI",
        "colab_type": "text"
      },
      "source": [
        "operations on tuples\n"
      ]
    },
    {
      "cell_type": "code",
      "metadata": {
        "id": "3PhHkgduM8aQ",
        "colab_type": "code",
        "colab": {}
      },
      "source": [
        "thisistup=(1,2,5)"
      ],
      "execution_count": null,
      "outputs": []
    },
    {
      "cell_type": "code",
      "metadata": {
        "id": "GkQkQlNSNB7L",
        "colab_type": "code",
        "colab": {
          "base_uri": "https://localhost:8080/",
          "height": 35
        },
        "outputId": "52df13b5-2225-44a1-fbc1-d4b57d46c726"
      },
      "source": [
        "print(thisistup[1])"
      ],
      "execution_count": null,
      "outputs": [
        {
          "output_type": "stream",
          "text": [
            "2\n"
          ],
          "name": "stdout"
        }
      ]
    },
    {
      "cell_type": "code",
      "metadata": {
        "id": "UQvJcvKbNSoH",
        "colab_type": "code",
        "colab": {
          "base_uri": "https://localhost:8080/",
          "height": 35
        },
        "outputId": "edb02ce1-c466-4892-e3fe-0d9cc175c520"
      },
      "source": [
        "print(len(thisistup))"
      ],
      "execution_count": null,
      "outputs": [
        {
          "output_type": "stream",
          "text": [
            "3\n"
          ],
          "name": "stdout"
        }
      ]
    },
    {
      "cell_type": "markdown",
      "metadata": {
        "id": "P9VpL111N44O",
        "colab_type": "text"
      },
      "source": [
        "operations on dictionaries"
      ]
    },
    {
      "cell_type": "code",
      "metadata": {
        "id": "s5lPbZCZN_eY",
        "colab_type": "code",
        "colab": {}
      },
      "source": [
        "student={\n",
        "    \"rollno\":32,\n",
        "    \"name\":\"Karan\",\n",
        "    \"DOB\":\"13/09/99\"\n",
        "\n",
        "}"
      ],
      "execution_count": null,
      "outputs": []
    },
    {
      "cell_type": "code",
      "metadata": {
        "id": "-GH6EMrfOfsg",
        "colab_type": "code",
        "colab": {
          "base_uri": "https://localhost:8080/",
          "height": 35
        },
        "outputId": "d0b10423-8ba3-4666-e095-1928c92f4cd4"
      },
      "source": [
        "print(student[\"name\"])"
      ],
      "execution_count": null,
      "outputs": [
        {
          "output_type": "stream",
          "text": [
            "Karan\n"
          ],
          "name": "stdout"
        }
      ]
    },
    {
      "cell_type": "code",
      "metadata": {
        "id": "DkEAwzjfOzc8",
        "colab_type": "code",
        "colab": {}
      },
      "source": [
        "x=student.get(\"rollno\")"
      ],
      "execution_count": null,
      "outputs": []
    },
    {
      "cell_type": "code",
      "metadata": {
        "id": "b_YlxMMePQRK",
        "colab_type": "code",
        "colab": {
          "base_uri": "https://localhost:8080/",
          "height": 35
        },
        "outputId": "5c941bed-e16e-45e5-b0cd-dad6de9ffd3f"
      },
      "source": [
        "x"
      ],
      "execution_count": null,
      "outputs": [
        {
          "output_type": "execute_result",
          "data": {
            "text/plain": [
              "32"
            ]
          },
          "metadata": {
            "tags": []
          },
          "execution_count": 27
        }
      ]
    },
    {
      "cell_type": "code",
      "metadata": {
        "id": "PPQkxapyPTLh",
        "colab_type": "code",
        "colab": {
          "base_uri": "https://localhost:8080/",
          "height": 35
        },
        "outputId": "b97d101f-0969-4707-e512-5663bf78a5fd"
      },
      "source": [
        "student.pop(\"name\")"
      ],
      "execution_count": null,
      "outputs": [
        {
          "output_type": "execute_result",
          "data": {
            "application/vnd.google.colaboratory.intrinsic+json": {
              "type": "string"
            },
            "text/plain": [
              "'Karan'"
            ]
          },
          "metadata": {
            "tags": []
          },
          "execution_count": 28
        }
      ]
    },
    {
      "cell_type": "code",
      "metadata": {
        "id": "UXKW4nDNPll_",
        "colab_type": "code",
        "colab": {}
      },
      "source": [
        ""
      ],
      "execution_count": null,
      "outputs": []
    }
  ]
}