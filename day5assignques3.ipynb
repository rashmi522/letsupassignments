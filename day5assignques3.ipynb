{
  "nbformat": 4,
  "nbformat_minor": 0,
  "metadata": {
    "colab": {
      "name": "day5assignques3.ipynb",
      "provenance": [],
      "authorship_tag": "ABX9TyOZAOHXKl68MQre0LJig8zA",
      "include_colab_link": true
    },
    "kernelspec": {
      "name": "python3",
      "display_name": "Python 3"
    }
  },
  "cells": [
    {
      "cell_type": "markdown",
      "metadata": {
        "id": "view-in-github",
        "colab_type": "text"
      },
      "source": [
        "<a href=\"https://colab.research.google.com/github/rashmi522/letsupassignments/blob/master/day5assignques3.ipynb\" target=\"_parent\"><img src=\"https://colab.research.google.com/assets/colab-badge.svg\" alt=\"Open In Colab\"/></a>"
      ]
    },
    {
      "cell_type": "markdown",
      "metadata": {
        "id": "SEfpz3BAeHbX",
        "colab_type": "text"
      },
      "source": [
        "make a lambda function for capitaliziing the whole sentence passed using arguments and map all the sentences in the list, with the lambda functions"
      ]
    },
    {
      "cell_type": "code",
      "metadata": {
        "id": "VnqCz515eFZn",
        "colab_type": "code",
        "colab": {
          "base_uri": "https://localhost:8080/",
          "height": 35
        },
        "outputId": "2cb3c174-ce82-4487-8d91-653aa5e1192d"
      },
      "source": [
        "capitalizestr=lambda x:x.title()\n",
        "str=map(capitalizestr,[\"hey this is sai i am in mumbai\",\"my name is john\" ])\n",
        "print(list(str))"
      ],
      "execution_count": 2,
      "outputs": [
        {
          "output_type": "stream",
          "text": [
            "['Hey This Is Sai I Am In Mumbai', 'My Name Is John']\n"
          ],
          "name": "stdout"
        }
      ]
    }
  ]
}