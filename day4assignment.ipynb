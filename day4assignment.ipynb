{
  "nbformat": 4,
  "nbformat_minor": 0,
  "metadata": {
    "colab": {
      "name": "day4assignment.ipynb",
      "provenance": [],
      "authorship_tag": "ABX9TyO6ws0SXMYhUMMKqFiJ0Pi8",
      "include_colab_link": true
    },
    "kernelspec": {
      "name": "python3",
      "display_name": "Python 3"
    }
  },
  "cells": [
    {
      "cell_type": "markdown",
      "metadata": {
        "id": "view-in-github",
        "colab_type": "text"
      },
      "source": [
        "<a href=\"https://colab.research.google.com/github/rashmi522/letsupassignments/blob/master/day4assignment.ipynb\" target=\"_parent\"><img src=\"https://colab.research.google.com/assets/colab-badge.svg\" alt=\"Open In Colab\"/></a>"
      ]
    },
    {
      "cell_type": "code",
      "metadata": {
        "id": "-MX4a8vN225z",
        "colab_type": "code",
        "colab": {}
      },
      "source": [
        ""
      ],
      "execution_count": null,
      "outputs": []
    },
    {
      "cell_type": "markdown",
      "metadata": {
        "id": "n_t9t61q3IO_",
        "colab_type": "text"
      },
      "source": [
        "print the first armstrong number in the range of 1042000 to 702646265 and exit the loop as soon as you encounter first armstrong number\n"
      ]
    },
    {
      "cell_type": "code",
      "metadata": {
        "id": "9Xf_Tm7u3lt8",
        "colab_type": "code",
        "colab": {}
      },
      "source": [
        "\n",
        "for i in range(1042000,702646265):\n",
        "  temp=i\n",
        "  sum=0\n",
        "  while temp>0:\n",
        "    digit=temp%10\n",
        "    sum+=digit**3\n",
        "    temp//=10\n",
        "  if sum==i:\n",
        "    print(\"the first armstrong number is \",i)\n",
        "    break\n",
        "  \n",
        "\n",
        "\n",
        "\n"
      ],
      "execution_count": null,
      "outputs": []
    }
  ]
}